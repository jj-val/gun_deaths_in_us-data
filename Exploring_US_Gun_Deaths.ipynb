{
 "cells": [
  {
   "cell_type": "markdown",
   "metadata": {},
   "source": [
    "# Analyzing Gun Deaths in the U.S. "
   ]
  },
  {
   "cell_type": "code",
   "execution_count": 1,
   "metadata": {},
   "outputs": [
    {
     "name": "stdout",
     "output_type": "stream",
     "text": [
      "[['', 'year', 'month', 'intent', 'police', 'sex', 'age', 'race', 'hispanic', 'place', 'education'], ['1', '2012', '01', 'Suicide', '0', 'M', '34', 'Asian/Pacific Islander', '100', 'Home', '4'], ['2', '2012', '01', 'Suicide', '0', 'F', '21', 'White', '100', 'Street', '3'], ['3', '2012', '01', 'Suicide', '0', 'M', '60', 'White', '100', 'Other specified', '4'], ['4', '2012', '02', 'Suicide', '0', 'M', '64', 'White', '100', 'Home', '4']]\n"
     ]
    }
   ],
   "source": [
    "import csv\n",
    "f = open(\"guns.csv\", \"r\")\n",
    "csvreader = csv.reader(f)\n",
    "guns_data = list(csvreader)\n",
    "print(guns_data[0:5])"
   ]
  },
  {
   "cell_type": "markdown",
   "metadata": {},
   "source": [
    "### Remove the header row data:"
   ]
  },
  {
   "cell_type": "code",
   "execution_count": 3,
   "metadata": {},
   "outputs": [],
   "source": [
    "header = guns_data[:1]\n",
    "data = guns_data[1:]"
   ]
  },
  {
   "cell_type": "code",
   "execution_count": 4,
   "metadata": {},
   "outputs": [
    {
     "name": "stdout",
     "output_type": "stream",
     "text": [
      "[['', 'year', 'month', 'intent', 'police', 'sex', 'age', 'race', 'hispanic', 'place', 'education']]\n"
     ]
    }
   ],
   "source": [
    "print(header)"
   ]
  },
  {
   "cell_type": "code",
   "execution_count": 5,
   "metadata": {},
   "outputs": [
    {
     "name": "stdout",
     "output_type": "stream",
     "text": [
      "[['1', '2012', '01', 'Suicide', '0', 'M', '34', 'Asian/Pacific Islander', '100', 'Home', '4'], ['2', '2012', '01', 'Suicide', '0', 'F', '21', 'White', '100', 'Street', '3'], ['3', '2012', '01', 'Suicide', '0', 'M', '60', 'White', '100', 'Other specified', '4'], ['4', '2012', '02', 'Suicide', '0', 'M', '64', 'White', '100', 'Home', '4'], ['5', '2012', '02', 'Suicide', '0', 'M', '31', 'White', '100', 'Other specified', '2']]\n"
     ]
    }
   ],
   "source": [
    "print(data[0:5])"
   ]
  },
  {
   "cell_type": "markdown",
   "metadata": {},
   "source": [
    "### Calculating how many gun deaths occur each year:"
   ]
  },
  {
   "cell_type": "code",
   "execution_count": 6,
   "metadata": {},
   "outputs": [
    {
     "data": {
      "text/plain": [
       "{'2012': 33563, '2013': 33636, '2014': 33599}"
      ]
     },
     "execution_count": 6,
     "metadata": {},
     "output_type": "execute_result"
    }
   ],
   "source": [
    "years = [row[1] for row in data] # Set the year data at index 1 to years list\n",
    "year_counts = {}\n",
    "\n",
    "for year in years:\n",
    "    if year in year_counts:\n",
    "        year_counts[year] += 1\n",
    "    else:\n",
    "        year_counts[year] = 1\n",
    "year_counts"
   ]
  },
  {
   "cell_type": "markdown",
   "metadata": {},
   "source": [
    "### Calculating gun deaths by month and year:"
   ]
  },
  {
   "cell_type": "code",
   "execution_count": 7,
   "metadata": {},
   "outputs": [
    {
     "data": {
      "text/plain": [
       "[datetime.datetime(2012, 1, 1, 0, 0),\n",
       " datetime.datetime(2012, 1, 1, 0, 0),\n",
       " datetime.datetime(2012, 1, 1, 0, 0),\n",
       " datetime.datetime(2012, 2, 1, 0, 0),\n",
       " datetime.datetime(2012, 2, 1, 0, 0)]"
      ]
     },
     "execution_count": 7,
     "metadata": {},
     "output_type": "execute_result"
    }
   ],
   "source": [
    "import datetime\n",
    "dates = [datetime.datetime(year = int(row[1]), month = int(row[2]), day=1) for row in data]\n",
    "dates[:5]"
   ]
  },
  {
   "cell_type": "code",
   "execution_count": 8,
   "metadata": {},
   "outputs": [
    {
     "data": {
      "text/plain": [
       "{datetime.datetime(2012, 1, 1, 0, 0): 2758,\n",
       " datetime.datetime(2012, 2, 1, 0, 0): 2357,\n",
       " datetime.datetime(2012, 3, 1, 0, 0): 2743,\n",
       " datetime.datetime(2012, 4, 1, 0, 0): 2795,\n",
       " datetime.datetime(2012, 5, 1, 0, 0): 2999,\n",
       " datetime.datetime(2012, 6, 1, 0, 0): 2826,\n",
       " datetime.datetime(2012, 7, 1, 0, 0): 3026,\n",
       " datetime.datetime(2012, 8, 1, 0, 0): 2954,\n",
       " datetime.datetime(2012, 9, 1, 0, 0): 2852,\n",
       " datetime.datetime(2012, 10, 1, 0, 0): 2733,\n",
       " datetime.datetime(2012, 11, 1, 0, 0): 2729,\n",
       " datetime.datetime(2012, 12, 1, 0, 0): 2791,\n",
       " datetime.datetime(2013, 1, 1, 0, 0): 2864,\n",
       " datetime.datetime(2013, 2, 1, 0, 0): 2375,\n",
       " datetime.datetime(2013, 3, 1, 0, 0): 2862,\n",
       " datetime.datetime(2013, 4, 1, 0, 0): 2798,\n",
       " datetime.datetime(2013, 5, 1, 0, 0): 2806,\n",
       " datetime.datetime(2013, 6, 1, 0, 0): 2920,\n",
       " datetime.datetime(2013, 7, 1, 0, 0): 3079,\n",
       " datetime.datetime(2013, 8, 1, 0, 0): 2859,\n",
       " datetime.datetime(2013, 9, 1, 0, 0): 2742,\n",
       " datetime.datetime(2013, 10, 1, 0, 0): 2808,\n",
       " datetime.datetime(2013, 11, 1, 0, 0): 2758,\n",
       " datetime.datetime(2013, 12, 1, 0, 0): 2765,\n",
       " datetime.datetime(2014, 1, 1, 0, 0): 2651,\n",
       " datetime.datetime(2014, 2, 1, 0, 0): 2361,\n",
       " datetime.datetime(2014, 3, 1, 0, 0): 2684,\n",
       " datetime.datetime(2014, 4, 1, 0, 0): 2862,\n",
       " datetime.datetime(2014, 5, 1, 0, 0): 2864,\n",
       " datetime.datetime(2014, 6, 1, 0, 0): 2931,\n",
       " datetime.datetime(2014, 7, 1, 0, 0): 2884,\n",
       " datetime.datetime(2014, 8, 1, 0, 0): 2970,\n",
       " datetime.datetime(2014, 9, 1, 0, 0): 2914,\n",
       " datetime.datetime(2014, 10, 1, 0, 0): 2865,\n",
       " datetime.datetime(2014, 11, 1, 0, 0): 2756,\n",
       " datetime.datetime(2014, 12, 1, 0, 0): 2857}"
      ]
     },
     "execution_count": 8,
     "metadata": {},
     "output_type": "execute_result"
    }
   ],
   "source": [
    "date_counts = {}\n",
    "\n",
    "for date in dates:\n",
    "    if date in date_counts:\n",
    "        date_counts[date] += 1\n",
    "    else: \n",
    "        date_counts[date] = 1\n",
    "date_counts"
   ]
  },
  {
   "cell_type": "markdown",
   "metadata": {
    "collapsed": true
   },
   "source": [
    "### Exploring Sex and Race columns:"
   ]
  },
  {
   "cell_type": "code",
   "execution_count": 9,
   "metadata": {},
   "outputs": [
    {
     "data": {
      "text/plain": [
       "{'M': 86349, 'F': 14449}"
      ]
     },
     "execution_count": 9,
     "metadata": {},
     "output_type": "execute_result"
    }
   ],
   "source": [
    "sexes = [row[5] for row in data] # Set the sex data at index 5 to sexes list\n",
    "sex_counts = {}\n",
    "\n",
    "for sex in sexes: \n",
    "    if sex in sex_counts:\n",
    "        sex_counts[sex] += 1\n",
    "    else:\n",
    "        sex_counts[sex] = 1\n",
    "sex_counts"
   ]
  },
  {
   "cell_type": "code",
   "execution_count": 10,
   "metadata": {},
   "outputs": [
    {
     "data": {
      "text/plain": [
       "{'Asian/Pacific Islander': 1326,\n",
       " 'White': 66237,\n",
       " 'Native American/Native Alaskan': 917,\n",
       " 'Black': 23296,\n",
       " 'Hispanic': 9022}"
      ]
     },
     "execution_count": 10,
     "metadata": {},
     "output_type": "execute_result"
    }
   ],
   "source": [
    "races = [row[7] for row in data] # Set the race data at index 7 to races list\n",
    "race_counts = {}\n",
    "\n",
    "for race in races:\n",
    "    if race in race_counts:\n",
    "        race_counts[race] += 1\n",
    "    else:\n",
    "        race_counts[race] = 1\n",
    "race_counts"
   ]
  },
  {
   "cell_type": "markdown",
   "metadata": {},
   "source": [
    "### Importing a second dataset to explore the findings above in context with the general population:"
   ]
  },
  {
   "cell_type": "code",
   "execution_count": 11,
   "metadata": {},
   "outputs": [
    {
     "data": {
      "text/plain": [
       "[['Id',\n",
       "  'Year',\n",
       "  'Id',\n",
       "  'Sex',\n",
       "  'Id',\n",
       "  'Hispanic Origin',\n",
       "  'Id',\n",
       "  'Id2',\n",
       "  'Geography',\n",
       "  'Total',\n",
       "  'Race Alone - White',\n",
       "  'Race Alone - Hispanic',\n",
       "  'Race Alone - Black or African American',\n",
       "  'Race Alone - American Indian and Alaska Native',\n",
       "  'Race Alone - Asian',\n",
       "  'Race Alone - Native Hawaiian and Other Pacific Islander',\n",
       "  'Two or More Races'],\n",
       " ['cen42010',\n",
       "  'April 1, 2010 Census',\n",
       "  'totsex',\n",
       "  'Both Sexes',\n",
       "  'tothisp',\n",
       "  'Total',\n",
       "  '0100000US',\n",
       "  '',\n",
       "  'United States',\n",
       "  '308745538',\n",
       "  '197318956',\n",
       "  '44618105',\n",
       "  '40250635',\n",
       "  '3739506',\n",
       "  '15159516',\n",
       "  '674625',\n",
       "  '6984195']]"
      ]
     },
     "execution_count": 11,
     "metadata": {},
     "output_type": "execute_result"
    }
   ],
   "source": [
    "import csv\n",
    "f = open(\"census.csv\", \"r\")\n",
    "csvreader = csv.reader(f)\n",
    "census = list(csvreader)\n",
    "census"
   ]
  },
  {
   "cell_type": "code",
   "execution_count": 12,
   "metadata": {},
   "outputs": [],
   "source": [
    "# Creating a dictionary with the data from above\n",
    "mapping = {\n",
    "    \"Asian/Pacific Islander\": 15159516 + 674625,\n",
    "    \"Native American/Native Alaskan\": 3739506,\n",
    "    \"Black\": 40250635,\n",
    "    \"Hispanic\": 44618105,\n",
    "    \"White\": 197318956\n",
    "}"
   ]
  },
  {
   "cell_type": "markdown",
   "metadata": {},
   "source": [
    "### Computing the gun death rates per race:"
   ]
  },
  {
   "cell_type": "code",
   "execution_count": 13,
   "metadata": {},
   "outputs": [
    {
     "data": {
      "text/plain": [
       "{'Asian/Pacific Islander': 8.374309664161762,\n",
       " 'White': 33.56849303419181,\n",
       " 'Native American/Native Alaskan': 24.521955573811088,\n",
       " 'Black': 57.8773477735196,\n",
       " 'Hispanic': 20.220491210910907}"
      ]
     },
     "execution_count": 13,
     "metadata": {},
     "output_type": "execute_result"
    }
   ],
   "source": [
    "race_per_hundredk = {}\n",
    "\n",
    "for key, value in race_counts.items():\n",
    "    race_per_hundredk[key] = (value / mapping[key]) * 100000\n",
    "race_per_hundredk"
   ]
  },
  {
   "cell_type": "markdown",
   "metadata": {},
   "source": [
    "### Now, we can filter based on intent.\n",
    "\n",
    "### Homicide:"
   ]
  },
  {
   "cell_type": "code",
   "execution_count": 14,
   "metadata": {},
   "outputs": [],
   "source": [
    "intents = [row[3] for row in data]\n",
    "races = [row[7] for row in data]\n",
    "\n",
    "homicide_race_counts = {}\n",
    "\n",
    "for i,race in enumerate(races):\n",
    "    if race not in homicide_race_counts:\n",
    "        homicide_race_counts[race] = 0\n",
    "    if intents[i] == \"Homicide\":\n",
    "        homicide_race_counts[race] += 1\n",
    "\n",
    "race_per_hundredk = {}\n",
    "for key,value in homicide_race_counts.items():\n",
    "    race_per_hundredk[key] = (value / mapping[key]) * 100000"
   ]
  },
  {
   "cell_type": "code",
   "execution_count": 15,
   "metadata": {},
   "outputs": [
    {
     "data": {
      "text/plain": [
       "{'Asian/Pacific Islander': 559,\n",
       " 'White': 9147,\n",
       " 'Native American/Native Alaskan': 326,\n",
       " 'Black': 19510,\n",
       " 'Hispanic': 5634}"
      ]
     },
     "execution_count": 15,
     "metadata": {},
     "output_type": "execute_result"
    }
   ],
   "source": [
    "homicide_race_counts"
   ]
  },
  {
   "cell_type": "code",
   "execution_count": 16,
   "metadata": {},
   "outputs": [
    {
     "data": {
      "text/plain": [
       "{'Asian/Pacific Islander': 3.530346230970155,\n",
       " 'White': 4.6356417981453335,\n",
       " 'Native American/Native Alaskan': 8.717729026240365,\n",
       " 'Black': 48.471284987180944,\n",
       " 'Hispanic': 12.627161104219914}"
      ]
     },
     "execution_count": 16,
     "metadata": {},
     "output_type": "execute_result"
    }
   ],
   "source": [
    "race_per_hundredk"
   ]
  },
  {
   "cell_type": "markdown",
   "metadata": {},
   "source": [
    "### Suicide:"
   ]
  },
  {
   "cell_type": "code",
   "execution_count": 17,
   "metadata": {},
   "outputs": [],
   "source": [
    "suicide_race_counts = {}\n",
    "\n",
    "for i,race in enumerate(races):\n",
    "    if race not in suicide_race_counts:\n",
    "        suicide_race_counts[race] = 0\n",
    "    if intents[i] == \"Suicide\":\n",
    "        suicide_race_counts[race] += 1\n",
    "\n",
    "race_per_hundredk = {}\n",
    "\n",
    "for key,value in suicide_race_counts.items():\n",
    "    race_per_hundredk[key] = (value / mapping[key]) * 100000"
   ]
  },
  {
   "cell_type": "code",
   "execution_count": 18,
   "metadata": {},
   "outputs": [
    {
     "data": {
      "text/plain": [
       "{'Asian/Pacific Islander': 745,\n",
       " 'White': 55372,\n",
       " 'Native American/Native Alaskan': 555,\n",
       " 'Black': 3332,\n",
       " 'Hispanic': 3171}"
      ]
     },
     "execution_count": 18,
     "metadata": {},
     "output_type": "execute_result"
    }
   ],
   "source": [
    "suicide_race_counts"
   ]
  },
  {
   "cell_type": "code",
   "execution_count": 19,
   "metadata": {},
   "outputs": [
    {
     "data": {
      "text/plain": [
       "{'Asian/Pacific Islander': 4.705023152187416,\n",
       " 'White': 28.06217969245692,\n",
       " 'Native American/Native Alaskan': 14.841532544673013,\n",
       " 'Black': 8.278130270491385,\n",
       " 'Hispanic': 7.106980451097149}"
      ]
     },
     "execution_count": 19,
     "metadata": {},
     "output_type": "execute_result"
    }
   ],
   "source": [
    "race_per_hundredk"
   ]
  },
  {
   "cell_type": "markdown",
   "metadata": {},
   "source": [
    "### Looking at the relation between month and homicide:"
   ]
  },
  {
   "cell_type": "code",
   "execution_count": 20,
   "metadata": {},
   "outputs": [
    {
     "data": {
      "text/plain": [
       "{'01': 8273,\n",
       " '02': 7093,\n",
       " '03': 8289,\n",
       " '04': 8455,\n",
       " '05': 8669,\n",
       " '06': 8677,\n",
       " '07': 8989,\n",
       " '08': 8783,\n",
       " '09': 8508,\n",
       " '10': 8406,\n",
       " '11': 8243,\n",
       " '12': 8413}"
      ]
     },
     "execution_count": 20,
     "metadata": {},
     "output_type": "execute_result"
    }
   ],
   "source": [
    "months = [row[2] for row in data] # Set the month data at index 2 to months list\n",
    "month_counts = {}\n",
    "\n",
    "for month in months: \n",
    "    if month in month_counts:\n",
    "        month_counts[month] += 1\n",
    "    else:\n",
    "        month_counts[month] = 1\n",
    "month_counts"
   ]
  },
  {
   "cell_type": "markdown",
   "metadata": {},
   "source": [
    "### Filtering to homicide by months:"
   ]
  },
  {
   "cell_type": "code",
   "execution_count": 21,
   "metadata": {},
   "outputs": [
    {
     "data": {
      "text/plain": [
       "{'01': 2829,\n",
       " '02': 2178,\n",
       " '03': 2780,\n",
       " '04': 2845,\n",
       " '05': 2976,\n",
       " '06': 3130,\n",
       " '07': 3269,\n",
       " '08': 3125,\n",
       " '09': 2966,\n",
       " '10': 2968,\n",
       " '11': 2919,\n",
       " '12': 3191}"
      ]
     },
     "execution_count": 21,
     "metadata": {},
     "output_type": "execute_result"
    }
   ],
   "source": [
    "month_homicide_counts = {}\n",
    "\n",
    "for i,month in enumerate(months):\n",
    "    if month not in month_homicide_counts:\n",
    "        month_homicide_counts[month] = 0\n",
    "    if intents[i] == \"Homicide\":\n",
    "        month_homicide_counts[month] += 1\n",
    "month_homicide_counts"
   ]
  },
  {
   "cell_type": "code",
   "execution_count": 23,
   "metadata": {},
   "outputs": [
    {
     "data": {
      "image/png": "[encoded data removed]",
      "text/plain": [
       "<Figure size 432x288 with 1 Axes>"
      ]
     },
     "metadata": {
      "needs_background": "light"
     },
     "output_type": "display_data"
    }
   ],
   "source": [
    "import matplotlib.pyplot as plt\n",
    "lists = month_homicide_counts.items()\n",
    "x, y = zip(*lists)\n",
    "plt.plot(x, y)\n",
    "plt.show()"
   ]
  },
  {
   "cell_type": "markdown",
   "metadata": {},
   "source": [
    "### We can see that homicides peak in July and are at the lowest point in February."
   ]
  },
  {
   "cell_type": "markdown",
   "metadata": {},
   "source": [
    "### Filtering to Suicides by month:"
   ]
  },
  {
   "cell_type": "code",
   "execution_count": 25,
   "metadata": {},
   "outputs": [
    {
     "data": {
      "text/plain": [
       "{'01': 5220,\n",
       " '02': 4732,\n",
       " '03': 5309,\n",
       " '04': 5438,\n",
       " '05': 5506,\n",
       " '06': 5367,\n",
       " '07': 5514,\n",
       " '08': 5421,\n",
       " '09': 5343,\n",
       " '10': 5256,\n",
       " '11': 5086,\n",
       " '12': 4983}"
      ]
     },
     "execution_count": 25,
     "metadata": {},
     "output_type": "execute_result"
    }
   ],
   "source": [
    "month_suicide_counts = {}\n",
    "\n",
    "for i,month in enumerate(months):\n",
    "    if month not in month_suicide_counts:\n",
    "        month_suicide_counts[month] = 0\n",
    "    if intents[i] == \"Suicide\":\n",
    "        month_suicide_counts[month] += 1\n",
    "month_suicide_counts"
   ]
  },
  {
   "cell_type": "code",
   "execution_count": 26,
   "metadata": {},
   "outputs": [
    {
     "data": {
      "image/png": "[encoded data removed]",
      "text/plain": [
       "<Figure size 432x288 with 1 Axes>"
      ]
     },
     "metadata": {
      "needs_background": "light"
     },
     "output_type": "display_data"
    }
   ],
   "source": [
    "lists = month_suicide_counts.items()\n",
    "x, y = zip(*lists)\n",
    "plt.plot(x, y)\n",
    "plt.show()"
   ]
  }
 ],
 "metadata": {
  "kernelspec": {
   "display_name": "Python 3",
   "language": "python",
   "name": "python3"
  },
  "language_info": {
   "codemirror_mode": {
    "name": "ipython",
    "version": 3
   },
   "file_extension": ".py",
   "mimetype": "text/x-python",
   "name": "python",
   "nbconvert_exporter": "python",
   "pygments_lexer": "ipython3",
   "version": "3.7.0"
  }
 },
 "nbformat": 4,
 "nbformat_minor": 1
}
